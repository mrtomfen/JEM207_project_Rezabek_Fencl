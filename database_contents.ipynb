{
 "cells": [
  {
   "cell_type": "code",
   "execution_count": 15,
   "id": "cce088ba-5963-4f7c-93da-48969d3fb9c6",
   "metadata": {},
   "outputs": [],
   "source": [
    "import sqlite3\n",
    "from sqlite3 import Error\n",
    "\n",
    "\n",
    "def create_connection(db_file):\n",
    "    \"\"\" create a database connection to the SQLite database\n",
    "        specified by db_file\n",
    "    :param db_file: database file\n",
    "    :return: Connection object or None\n",
    "    \"\"\"\n",
    "    conn = None\n",
    "    try:\n",
    "        conn = sqlite3.connect(db_file)\n",
    "    except Error as e:\n",
    "        print(e)\n",
    "\n",
    "    return conn"
   ]
  },
  {
   "cell_type": "code",
   "execution_count": 16,
   "id": "13fe9a50-c377-46e1-9ee0-8c4a84e188ec",
   "metadata": {},
   "outputs": [],
   "source": [
    "database = r\"/Users/tomasfencl/Desktop/final/maindb.db\""
   ]
  },
  {
   "cell_type": "code",
   "execution_count": 17,
   "id": "eb4f12b5-53c1-4d0b-8927-5e83fa002a89",
   "metadata": {},
   "outputs": [
    {
     "name": "stdout",
     "output_type": "stream",
     "text": [
      "[(1, 'tomas', 'mrtomfen@gmail.com', '2022-01-19', '2022-01-21', 34170601), (2, 'tomas', 'mrtomfen@gmail.com', '2022-01-19', '2022-01-21', 34170601), (3, 'tomas', 'mrtomfen@gmail.com', '2022-01-19', '2022-01-21', 34170601), (4, 'tomas', 'mrtomfen@gmail.com', '2022-01-19', '2022-01-21', 34170601), (5, 'tomas', 'mrtomfen@gmail.com', '2022-01-19', '2022-01-21', 34170601)]\n"
     ]
    }
   ],
   "source": [
    "#get row values WITH rowid\n",
    "conn = create_connection(database)\n",
    "c = conn.cursor()\n",
    "\n",
    "c.execute(\"SELECT rowid, * FROM indatatable\")\n",
    "display = c.fetchall()\n",
    "print(display)\n",
    "\n",
    "conn.commit()\n",
    "\n",
    "conn.close()"
   ]
  },
  {
   "cell_type": "code",
   "execution_count": 11,
   "id": "054e23cb-1b3c-4d82-8313-8d37b0af25b4",
   "metadata": {},
   "outputs": [
    {
     "name": "stdout",
     "output_type": "stream",
     "text": [
      "[(1, 1, '2022-01-17', 96, 'date not possible for checkin'), (2, 2, '2022-01-17', 156, 'some days are not available'), (3, 3, '2022-01-17', 100, 'some days are not available'), (4, 4, '2022-01-17', 74, 'some days are not available'), (5, 5, '2022-01-17', 124, 'some days are not available'), (6, 1, '2022-01-17', 96, 'date not possible for checkin'), (7, 2, '2022-01-17', 156, 'some days are not available'), (8, 3, '2022-01-17', 100, 'some days are not available'), (9, 4, '2022-01-17', 74, 'some days are not available'), (10, 5, '2022-01-17', 124, 'some days are not available')]\n"
     ]
    }
   ],
   "source": [
    "#get row values WITH rowid\n",
    "conn = create_connection(database)\n",
    "c = conn.cursor()\n",
    "\n",
    "c.execute(\"SELECT rowid, * FROM outdatatable\")\n",
    "display = c.fetchall()\n",
    "print(display)\n",
    "\n",
    "conn.commit()\n",
    "\n",
    "conn.close()"
   ]
  }
 ],
 "metadata": {
  "kernelspec": {
   "display_name": "Python 3",
   "language": "python",
   "name": "python3"
  },
  "language_info": {
   "codemirror_mode": {
    "name": "ipython",
    "version": 3
   },
   "file_extension": ".py",
   "mimetype": "text/x-python",
   "name": "python",
   "nbconvert_exporter": "python",
   "pygments_lexer": "ipython3",
   "version": "3.8.8"
  }
 },
 "nbformat": 4,
 "nbformat_minor": 5
}
