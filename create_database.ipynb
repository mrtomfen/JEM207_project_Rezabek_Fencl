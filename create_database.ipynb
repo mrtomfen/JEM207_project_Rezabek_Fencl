{
 "cells": [
  {
   "cell_type": "code",
   "execution_count": 4,
   "id": "b346d2ab-e6aa-4bde-983b-c0c6a8be1b7f",
   "metadata": {},
   "outputs": [],
   "source": [
    "import sqlite3\n",
    "from sqlite3 import Error\n",
    "\n",
    "\n",
    "def create_connection(db_file):\n",
    "    \"\"\" create a database connection to the SQLite database\n",
    "        specified by db_file\n",
    "    :param db_file: database file\n",
    "    :return: Connection object or None\n",
    "    \"\"\"\n",
    "    conn = None\n",
    "    try:\n",
    "        conn = sqlite3.connect(db_file)\n",
    "    except Error as e:\n",
    "        print(e)\n",
    "\n",
    "    return conn"
   ]
  },
  {
   "cell_type": "code",
   "execution_count": 6,
   "id": "24c5ce3e-e7bc-45c1-b3d7-e55d273ffd99",
   "metadata": {},
   "outputs": [],
   "source": [
    "database = r\"/Users/tomasfencl/Desktop/final/maindb.db\"\n",
    "\n",
    " #create a database connection\n",
    "conn = create_connection(database)\n",
    "c = conn.cursor()\n",
    "#create INPUT datatable\n",
    "c.execute(\"\"\"CREATE TABLE IF NOT EXISTS indatatable(\n",
    "       name text NOT NULL,\n",
    "       mail text NOT NULL,\n",
    "       chi str NOT NULL,\n",
    "       cho str NOT NULL,\n",
    "       id integer NOT NULL\n",
    "    )\"\"\")\n",
    "\n",
    "conn.commit()\n",
    "\n",
    "#create OUTPUT datatable\n",
    "c.execute(\"\"\"CREATE TABLE IF NOT EXISTS outdatatable(\n",
    "       ext_id integer NOT NULL,\n",
    "       date str NOT NULL,\n",
    "       price integer NOT NULL,\n",
    "       available str NOT NULL\n",
    "    )\"\"\")\n",
    "\n",
    "conn.commit()\n",
    "\n",
    "conn.close()"
   ]
  }
 ],
 "metadata": {
  "kernelspec": {
   "display_name": "Python 3",
   "language": "python",
   "name": "python3"
  },
  "language_info": {
   "codemirror_mode": {
    "name": "ipython",
    "version": 3
   },
   "file_extension": ".py",
   "mimetype": "text/x-python",
   "name": "python",
   "nbconvert_exporter": "python",
   "pygments_lexer": "ipython3",
   "version": "3.8.8"
  }
 },
 "nbformat": 4,
 "nbformat_minor": 5
}
